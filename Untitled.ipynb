{
 "cells": [
  {
   "cell_type": "code",
   "execution_count": 1,
   "metadata": {},
   "outputs": [],
   "source": [
    "# import necessary library\n",
    "import numpy as np\n",
    "import matplotlib.pyplot as plt\n",
    "\n",
    "# inline plotting in jupyter notebook\n",
    "%matplotlib inline\n",
    "\n",
    "# Ignore all warnings\n",
    "import warnings\n",
    "warnings.filterwarnings(\"ignore\")\n",
    "        "
   ]
  },
  {
   "cell_type": "code",
   "execution_count": 10,
   "metadata": {},
   "outputs": [
    {
     "name": "stdout",
     "output_type": "stream",
     "text": [
      "Number of Observations: 100\n",
      "Number of Variables: 2\n",
      "[-0.72390133  1.25521664  1.92857437 -0.81608497  1.34563224  1.02049615\n",
      "  0.82403228  0.48101363]\n"
     ]
    }
   ],
   "source": [
    "# Read the dataset provided in Blackboard for Student Grades\n",
    "Data = np.genfromtxt(\"StudentGrade_Univariate_Datasetss.csv\", delimiter=\",\", skip_header = 1) # Doesn't read the header\n",
    "# Check the Size of the data set\n",
    "print('Number of Observations:', Data.shape[0])\n",
    "print('Number of Variables:', Data.shape[1])\n",
    "# Define the Predictor and target values\n",
    "x = Data[:, 0][:, np.newaxis]            # Study Time\n",
    "#print(x)\n",
    "x /= np.max(x)                           # Normalize the Data by deviding by max\n",
    "#print(x)\n",
    "x = np.hstack((np.ones_like(x), x))      # To stack intercept column\n",
    "#print(x)\n",
    "y = Data[:, 1]                           # Student Grades\n",
    "print(np.random.randn(8))"
   ]
  },
  {
   "cell_type": "code",
   "execution_count": 6,
   "metadata": {},
   "outputs": [
    {
     "name": "stdout",
     "output_type": "stream",
     "text": [
      "[[1.         0.46203495]\n",
      " [1.         0.75948521]\n",
      " [1.         0.87468075]\n",
      " [1.         0.67488683]\n",
      " [1.         0.85027071]\n",
      " [1.         0.78387014]\n",
      " [1.         0.74221335]\n",
      " [1.         0.5586604 ]\n",
      " [1.         0.68383405]\n",
      " [1.         0.74702127]\n",
      " [1.         0.64566118]\n",
      " [1.         0.77263208]\n",
      " [1.         0.62781113]\n",
      " [1.         0.82689006]\n",
      " [1.         0.80640189]\n",
      " [1.         0.69592921]\n",
      " [1.         0.63524789]\n",
      " [1.         0.85715267]\n",
      " [1.         0.64848882]\n",
      " [1.         0.55179791]\n",
      " [1.         0.94091697]\n",
      " [1.         0.92991757]\n",
      " [1.         0.67496599]\n",
      " [1.         0.59101581]\n",
      " [1.         0.73700184]\n",
      " [1.         0.84398201]\n",
      " [1.         0.81468658]\n",
      " [1.         0.90432282]\n",
      " [1.         0.66439555]\n",
      " [1.         0.71868629]\n",
      " [1.         0.74238677]\n",
      " [1.         0.50561214]\n",
      " [1.         0.60325294]\n",
      " [1.         0.82683419]\n",
      " [1.         0.81745068]\n",
      " [1.         0.64595687]\n",
      " [1.         0.87988167]\n",
      " [1.         0.47044318]\n",
      " [1.         0.51795369]\n",
      " [1.         0.53557579]\n",
      " [1.         0.63337731]\n",
      " [1.         0.61578819]\n",
      " [1.         0.7118115 ]\n",
      " [1.         0.6236398 ]\n",
      " [1.         0.89553653]\n",
      " [1.         0.46440464]\n",
      " [1.         0.5709899 ]\n",
      " [1.         0.76159298]\n",
      " [1.         0.48139452]\n",
      " [1.         0.91984006]\n",
      " [1.         0.54188985]\n",
      " [1.         0.6326229 ]\n",
      " [1.         0.57714006]\n",
      " [1.         0.59307752]\n",
      " [1.         0.72624712]\n",
      " [1.         0.78295904]\n",
      " [1.         0.58820234]\n",
      " [1.         0.88838925]\n",
      " [1.         0.69945462]\n",
      " [1.         0.58429251]\n",
      " [1.         0.58542023]\n",
      " [1.         0.71342131]\n",
      " [1.         0.74458235]\n",
      " [1.         0.71269769]\n",
      " [1.         0.4782741 ]\n",
      " [1.         0.56233274]\n",
      " [1.         0.79791784]\n",
      " [1.         0.81542647]\n",
      " [1.         0.85675304]\n",
      " [1.         0.50717959]\n",
      " [1.         0.44903879]\n",
      " [1.         0.76281344]\n",
      " [1.         0.66360814]\n",
      " [1.         0.61279638]\n",
      " [1.         1.        ]\n",
      " [1.         0.63248526]\n",
      " [1.         0.8174519 ]\n",
      " [1.         0.52497707]\n",
      " [1.         0.79330272]\n",
      " [1.         0.55375895]\n",
      " [1.         0.80887547]\n",
      " [1.         0.80841611]\n",
      " [1.         0.48806027]\n",
      " [1.         0.8394177 ]\n",
      " [1.         0.82148469]\n",
      " [1.         0.77164686]\n",
      " [1.         0.72624833]\n",
      " [1.         0.71479234]\n",
      " [1.         0.6284891 ]\n",
      " [1.         0.54026451]\n",
      " [1.         0.46826322]\n",
      " [1.         0.76324996]\n",
      " [1.         0.97753476]\n",
      " [1.         0.65719326]\n",
      " [1.         0.97118937]\n",
      " [1.         0.71120064]\n",
      " [1.         0.69996464]\n",
      " [1.         0.71133429]\n",
      " [1.         0.68447114]\n",
      " [1.         0.35721232]]\n"
     ]
    }
   ],
   "source": [
    "print(x)"
   ]
  },
  {
   "cell_type": "code",
   "execution_count": null,
   "metadata": {},
   "outputs": [],
   "source": []
  },
  {
   "cell_type": "code",
   "execution_count": null,
   "metadata": {},
   "outputs": [],
   "source": []
  }
 ],
 "metadata": {
  "kernelspec": {
   "display_name": "Python 3",
   "language": "python",
   "name": "python3"
  },
  "language_info": {
   "codemirror_mode": {
    "name": "ipython",
    "version": 3
   },
   "file_extension": ".py",
   "mimetype": "text/x-python",
   "name": "python",
   "nbconvert_exporter": "python",
   "pygments_lexer": "ipython3",
   "version": "3.7.3"
  }
 },
 "nbformat": 4,
 "nbformat_minor": 2
}
