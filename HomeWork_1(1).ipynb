{
 "cells": [
  {
   "cell_type": "markdown",
   "metadata": {},
   "source": [
    "# Homework 1 (Programming Assignment)\n",
    "You have been provided with a data file in Blackboard named \"<font color=red>**Toy_Dataset.csv**</font>\". Please, use the dataset and try the perform the following operations\n",
    "\n",
    "1. Import Data File (25%)\n",
    "2. Estimate the Regression Co-efficient (25%)\n",
    "3. Calculate the Confidence and Prediction intervals  for \"Intercept\" and \"Slop\" (25%)\n",
    "4. Plotting the data, regression Line, CI and PI (Use, alpha = 0.025) (25%)\n",
    "\n",
    "**Bonus (5%):**\n",
    "Plot residuals and Probability plot of Residuals\n",
    "\n",
    "**Note:**\n",
    "\n",
    "Please, don't use any pre-build packages to perform the following. Build your own functions as shown in the class to complete the homework."
   ]
  },
  {
   "cell_type": "code",
   "execution_count": 74,
   "metadata": {},
   "outputs": [],
   "source": [
    "# Ernesto Hernandez-Hinojosa RJI284\n",
    "#Import Libraries\n",
    "# import necessary library\n",
    "import numpy as np\n",
    "import matplotlib.pyplot as plt\n",
    "import scipy.stats as stats\n",
    "import pylab\n",
    "# inline plotting in jupyter notebook\n",
    "%matplotlib inline\n",
    "\n",
    "# Ignore all warnings\n",
    "import warnings\n",
    "warnings.filterwarnings(\"ignore\")"
   ]
  },
  {
   "cell_type": "code",
   "execution_count": 75,
   "metadata": {},
   "outputs": [
    {
     "name": "stdout",
     "output_type": "stream",
     "text": [
      "Number of Observations: 200\n",
      "Number of Variables: 2\n"
     ]
    },
    {
     "data": {
      "text/plain": [
       "Text(0, 0.5, 'y')"
      ]
     },
     "execution_count": 75,
     "metadata": {},
     "output_type": "execute_result"
    },
    {
     "data": {
      "image/png": "[encoded data removed]",
      "text/plain": [
       "<Figure size 432x288 with 1 Axes>"
      ]
     },
     "metadata": {
      "needs_background": "light"
     },
     "output_type": "display_data"
    }
   ],
   "source": [
    "# Import Data Files (25%)\n",
    "# Read the dataset provided in Blackboard for Toys\n",
    "Data = np.genfromtxt(\"Toy_Dataset.csv\", delimiter=\",\", skip_header = 1) # Doesn't read the header\n",
    "# Check the Size of the data set\n",
    "print('Number of Observations:', Data.shape[0])\n",
    "print('Number of Variables:', Data.shape[1])\n",
    "# Define the Predictor and target values\n",
    "x = Data[:, 0]            # X\n",
    "#x /= np.max(x)                           # Normalize the Data\n",
    "\n",
    "#x = np.hstack((np.ones_like(x), x))      # To stack intercept column\n",
    "y = Data[:, 1]                          # Y\n",
    "# Check the data\n",
    "plt.scatter(x,y)\n",
    "plt.xlabel('x')\n",
    "plt.ylabel('y')\n",
    "\n",
    "\n",
    "\n",
    "\n",
    "\n",
    "\n",
    "\n"
   ]
  },
  {
   "cell_type": "code",
   "execution_count": 76,
   "metadata": {},
   "outputs": [
    {
     "name": "stdout",
     "output_type": "stream",
     "text": [
      "The slope is: \n",
      "0.998523471299359\n",
      "The intercept is: \n",
      "0.9697292706130759\n"
     ]
    }
   ],
   "source": [
    "# Estimate the regression Co-efficients (25%)\n",
    "# Slop and Intercept Calculator\n",
    "def linear_Fit(x,y):\n",
    "    # Let's compute teh slop\n",
    "    m = (len(x) * np.sum(x * y) - (np.sum(x) * np.sum(y))) / (len(x) * np.sum(x ** 2) - np.sum(x) ** 2)\n",
    "    # Compute the intercept\n",
    "    b = (np.sum(y) - m * np.sum(x)) / len(x)\n",
    "    return m, b\n",
    "# Prediction Model\n",
    "def Linear_Pred(x, m, b):\n",
    "    y_pred = m * x + b\n",
    "    return y_pred\n",
    "\n",
    "\n",
    "\n",
    "# Calculation\n",
    "m, b = linear_Fit(x,y)\n",
    "y_pred = Linear_Pred(x, m, b)\n",
    "\n",
    "print('The slope is: ')\n",
    "print(m)\n",
    "print('The intercept is: ')\n",
    "print(b)"
   ]
  },
  {
   "cell_type": "code",
   "execution_count": 77,
   "metadata": {},
   "outputs": [],
   "source": [
    "# Calculate the Confidence Interval for \"Intercept\" and \"Slop\" (25%)\n",
    "\n",
    "  # Total sum of squares\n",
    "\n",
    "\n",
    "\n",
    "#x_se = scipy.stats.sem(x, axis=None, ddof=0)\n",
    "#y_se = scipy.stats.sem(y, axis=None, ddof=0)\n",
    "#print(x_se)\n",
    "#print(y_se)Error_TSS = 0\n",
    "def Errors(x,y):\n",
    "    x_mean = np.mean(x)\n",
    "    Error_TSSS=0\n",
    "    for i in range(len(x)):\n",
    "        e = (x[i] - x_mean)**2\n",
    "        Error_TSSS += e\n",
    "    \n",
    "\n",
    "\n",
    "    Error_RSSS = 0\n",
    "    for i in range(len(x)):\n",
    "        y_pred = Linear_Pred(x[i], m, b)\n",
    "        e = (y_pred - y[i])**2\n",
    "        Error_RSSS += e\n",
    "\n",
    "    return(Error_TSSS, Error_RSSS)"
   ]
  },
  {
   "cell_type": "code",
   "execution_count": 81,
   "metadata": {},
   "outputs": [
    {
     "name": "stdout",
     "output_type": "stream",
     "text": [
      "The confidence interval of the slope is \n",
      "0.9877576019488877  to  1.0092893406498304\n",
      "the confidence interval of the intercept is: \n",
      "-0.42068657886818983  to  2.3601451200943417\n",
      "The prediction interval of the slope is: \n",
      "-1.00150550447646  to  2.9985524470751783\n",
      "The prediction interval of the intercept is: \n",
      "-18.642444459726935  to  20.581903000953087\n"
     ]
    }
   ],
   "source": [
    "dof = len(xx)-2\n",
    "#print(dof)\n",
    "\n",
    "Error_TSSS, Error_RSSS =Errors(x,y)\n",
    "\n",
    "var_E = Error_RSSS/dof\n",
    "#print('the variance of E is: ')\n",
    "#print(var_E)\n",
    "\n",
    "SE_slope = np.sqrt(var_E/(Error_TSSS))\n",
    "#print('The standard error of the slope is: ')\n",
    "#print(SE_slope)\n",
    "\n",
    "#print('Error TSSS')\n",
    "#print(Error_TSSS)\n",
    "\n",
    "#print('Error RSSS')\n",
    "#print(Error_RSSS)\n",
    "x_mean=np.mean(x)\n",
    "#print(x_mean)\n",
    "SE_int = np.sqrt(var_E*((1/dof)+((x_mean**2)/Error_TSSS)))\n",
    "#print('The standard error of the intercept is: ')\n",
    "#print(SE_int)\n",
    "\n",
    "print('The confidence interval of the slope is ')\n",
    "print(m-2*SE_slope, ' to ',m+2*SE_slope)\n",
    "\n",
    "\n",
    "print('the confidence interval of the intercept is: ')\n",
    "print(b-2*SE_int, ' to ',b+2*SE_int)\n",
    "\n",
    "\n",
    "#steyx=(Error_RSSS/(dof))**0.5\n",
    "#print('The standard error of y given x is: ', steyx)\n",
    "#assume tcritical = 2\n",
    "\n",
    "se_int=np.sqrt(var_E*(1+(1/dof)+((x_mean**2)/Error_TSSS)))\n",
    "pi_intLOW = b-(2*se_int)\n",
    "pi_intHIGH=b+(2*se_int)\n",
    "\n",
    "se_slope = (1+(var_E/(Error_TSSS)))**.5\n",
    "pi_slopeLOW = m-(2*se_slope)\n",
    "pi_slopeHIGH=m+(2*se_slope)\n",
    "\n",
    "print('The prediction interval of the slope is: ')\n",
    "print(pi_slopeLOW,' to ',pi_slopeHIGH)\n",
    "print('The prediction interval of the intercept is: ' )\n",
    "print(pi_intLOW,' to ', pi_intHIGH)\n",
    "\n"
   ]
  },
  {
   "cell_type": "code",
   "execution_count": 84,
   "metadata": {},
   "outputs": [
    {
     "data": {
      "image/png": "[encoded data removed]",
      "text/plain": [
       "<Figure size 432x288 with 1 Axes>"
      ]
     },
     "metadata": {
      "needs_background": "light"
     },
     "output_type": "display_data"
    }
   ],
   "source": [
    "# Plotting the data, regression Line, CI and PI (25%)\n",
    "tval = 2.258 #for alpha of .025 (two-tailed)\n",
    "pylab.scatter(xx,y)\n",
    "pylab.xlabel('x')\n",
    "pylab.ylabel('y')\n",
    "\n",
    "# Prediction Model\n",
    "#assume t value of 2\n",
    "def Linear_Pred(x, m, b):\n",
    "    y_pred = m * x + b\n",
    "    return y_pred\n",
    "# Calculation\n",
    "m, b = linear_Fit(x,y)\n",
    "y_pred = Linear_Pred(x, m, b)\n",
    "pylab.plot(x, y_pred,'g')\n",
    "\n",
    "y_predLOW= y_pred-(tval*np.sqrt(var_E*(1 + 1/(dof) + (x - np.mean(x))**2/np.sum((x-np.mean(x))**2))))\n",
    "y_predHIGH= y_pred+(tval*np.sqrt(var_E*(1 + 1/(dof) + (x - np.mean(x))**2/np.sum((x-np.mean(x))**2))))\n",
    "y_confLOW= y_pred-(tval*np.sqrt( var_E* (1/(dof) + (x - np.mean(x))**2/np.sum((x-np.mean(x))**2))))\n",
    "y_confHIGH= y_pred+(tval*np.sqrt( var_E* (1/(dof) + (x - np.mean(x))**2/np.sum((x-np.mean(x))**2))))\n",
    "pylab.plot(x, y_confLOW, 'y', label='CI')\n",
    "pylab.plot(x, y_confHIGH, 'y')\n",
    "pylab.plot(x, y_predLOW, 'r',label='PI')\n",
    "pylab.plot(x, y_predHIGH, 'r')\n",
    "pylab.legend(loc='upper left')\n",
    "pylab.show()\n",
    "\n",
    "\n",
    "#slope, intercept, r_value, p_value, std_error = scipy.stats.linregress(x,y)\n",
    "#print(std_error)\n"
   ]
  },
  {
   "cell_type": "code",
   "execution_count": 85,
   "metadata": {},
   "outputs": [
    {
     "data": {
      "image/png": "[encoded data removed]",
      "text/plain": [
       "<Figure size 432x288 with 1 Axes>"
      ]
     },
     "metadata": {
      "needs_background": "light"
     },
     "output_type": "display_data"
    },
    {
     "data": {
      "image/png": "[encoded data removed]",
      "text/plain": [
       "<Figure size 432x288 with 1 Axes>"
      ]
     },
     "metadata": {
      "needs_background": "light"
     },
     "output_type": "display_data"
    }
   ],
   "source": [
    "## Bonus (5%)\n",
    "# plot residuals and probability plot of residuals for a normal distribution\n",
    "y_res=y-y_pred\n",
    "pylab.scatter(x, y_res)\n",
    "pylab.plot(x,np.zeros(len(xx)),'k')\n",
    "\n",
    "pylab.xlabel('x')\n",
    "pylab.ylabel('residual')\n",
    "\n",
    "plt.figure(2)\n",
    "\n",
    "stats.probplot(y_res, dist=\"norm\", plot=pylab)\n",
    "pylab.show()"
   ]
  },
  {
   "cell_type": "code",
   "execution_count": null,
   "metadata": {},
   "outputs": [],
   "source": []
  }
 ],
 "metadata": {
  "kernelspec": {
   "display_name": "Python 3",
   "language": "python",
   "name": "python3"
  },
  "language_info": {
   "codemirror_mode": {
    "name": "ipython",
    "version": 3
   },
   "file_extension": ".py",
   "mimetype": "text/x-python",
   "name": "python",
   "nbconvert_exporter": "python",
   "pygments_lexer": "ipython3",
   "version": "3.7.3"
  }
 },
 "nbformat": 4,
 "nbformat_minor": 2
}
