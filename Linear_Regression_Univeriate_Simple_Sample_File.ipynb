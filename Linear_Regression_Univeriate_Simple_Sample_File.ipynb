{
 "cells": [
  {
   "cell_type": "markdown",
   "metadata": {},
   "source": [
    "# Performing a linear regression with given data \n",
    "Author: Syed Hasib Akhter Faruqui\n",
    "\n",
    "Assume we have been provided a dataset where, we have to figure out how study time affects the grade of a student. Say, we want to fit the model using simple linear regression model. As we are given only one variable as input and corresponding output is given, this is a univariate problem. \n",
    "\n",
    "For fitting the model, we will approach the optimization procedure, as the optimized parameters for \"slop\" and \"intercept\" can be calculated with less effort (Shown Below). This step by step tutorial will serve as a demostration for both \"linear regression\" and \"gradient descent optimization\"  "
   ]
  },
  {
   "cell_type": "markdown",
   "metadata": {},
   "source": [
    "### Solution Method 1\n",
    "Say, you have the following linear regression model:\n",
    "\n",
    "$y=mx + c$ \n",
    "where, $m$ = Slop and $c$ = Intercept.\n",
    "\n",
    "Now, if we have our predictor values, $x$ and predicted values $y$ we can calculate the $m$ and $c$ by-\n",
    "\n",
    "$m = \\frac{N \\sum{xy} - \\sum{x}\\sum{y}}{N\\sum{x^2} - (\\sum{x})^2}$ \n",
    "\n",
    "$c = \\frac{\\sum{y} - m \\sum{x}}{N} $\n",
    "\n",
    "By solving the above equations we can formulate the linear regression directly."
   ]
  },
  {
   "cell_type": "code",
   "execution_count": 15,
   "metadata": {},
   "outputs": [],
   "source": [
    "# import necessary library\n",
    "import numpy as np\n",
    "import matplotlib.pyplot as plt\n",
    "\n",
    "# inline plotting in jupyter notebook\n",
    "%matplotlib inline\n",
    "\n",
    "# Ignore all warnings\n",
    "import warnings\n",
    "warnings.filterwarnings(\"ignore\")"
   ]
  },
  {
   "cell_type": "code",
   "execution_count": 16,
   "metadata": {},
   "outputs": [
    {
     "name": "stdout",
     "output_type": "stream",
     "text": [
      "[15 42 66 45]\n"
     ]
    }
   ],
   "source": [
    "#x = np.array([1,2,3,4,5,6,7,8,9,10,11,12,13,14,15,16,17,18,19,20])\n",
    "#y = np.array([15,42,66,45,93,153,180,200,213,219,210,300,254,294,267,310,334,358,367,400])\n",
    "x = np.array([1,2,3,4])\n",
    "y = np.array([15,42,66,45])\n",
    "print(y)\n"
   ]
  },
  {
   "cell_type": "code",
   "execution_count": 17,
   "metadata": {},
   "outputs": [
    {
     "data": {
      "text/plain": [
       "Text(0, 0.5, 'y')"
      ]
     },
     "execution_count": 17,
     "metadata": {},
     "output_type": "execute_result"
    },
    {
     "data": {
      "image/png": "[encoded data removed]",
      "text/plain": [
       "<Figure size 432x288 with 1 Axes>"
      ]
     },
     "metadata": {
      "needs_background": "light"
     },
     "output_type": "display_data"
    }
   ],
   "source": [
    "# Check the data\n",
    "plt.scatter(x,y)\n",
    "plt.xlabel('x')\n",
    "plt.ylabel('y')"
   ]
  },
  {
   "cell_type": "code",
   "execution_count": 18,
   "metadata": {},
   "outputs": [],
   "source": [
    "# Slop and Intercept Calculator\n",
    "def linear_Fit(x,y):\n",
    "    # Let's compute teh slop\n",
    "    m = (len(x) * np.sum(x * y) - (np.sum(x) * np.sum(y))) / (len(x) * np.sum(x ** 2) - np.sum(x) ** 2)\n",
    "    # Compute the intercept\n",
    "    b = (np.sum(y) - m * np.sum(x)) / len(x)\n",
    "    return m, b"
   ]
  },
  {
   "cell_type": "code",
   "execution_count": 19,
   "metadata": {},
   "outputs": [],
   "source": [
    "# Prediction Model\n",
    "def Linear_Pred(x, m, b):\n",
    "    y_pred = m * x + b\n",
    "    return y_pred"
   ]
  },
  {
   "cell_type": "code",
   "execution_count": 20,
   "metadata": {},
   "outputs": [],
   "source": [
    "def Statistical_Properties(x, y, m, b):\n",
    "    # Residual sum of squares\n",
    "    Error_RSS = 0\n",
    "    for i in range(len(x)):\n",
    "        y_pred = Linear_Pred(x[i], m, b)\n",
    "        e = (y_pred - y[i])**2\n",
    "        Error_RSS += e\n",
    "        \n",
    "    # Total sum of squares\n",
    "    Error_TSS = 0\n",
    "    y_mean = np.mean(y)\n",
    "    for i in range(len(x)):\n",
    "        e = (y[i] - y_mean)**2\n",
    "        Error_TSS += e\n",
    "        \n",
    "    # explained sum of squares (ESS)\n",
    "    Error_ESS = 0\n",
    "    y_mean = np.mean(y)\n",
    "    for i in range(len(x)):\n",
    "        y_pred = Linear_Pred(x[i], m, b)\n",
    "        e = (y_pred - y_mean)**2\n",
    "        Error_ESS += e\n",
    "        \n",
    "    ## Write the formula for t-statistics and p-value\n",
    "        \n",
    "    return Error_RSS, Error_ESS, Error_TSS"
   ]
  },
  {
   "cell_type": "code",
   "execution_count": 21,
   "metadata": {},
   "outputs": [
    {
     "name": "stdout",
     "output_type": "stream",
     "text": [
      "13.5\n"
     ]
    }
   ],
   "source": [
    "# Calculation\n",
    "\n",
    "m, b = linear_Fit(x,y)\n",
    "y_pred = Linear_Pred(x, m, b)\n",
    "print(b)"
   ]
  },
  {
   "cell_type": "code",
   "execution_count": 8,
   "metadata": {},
   "outputs": [
    {
     "data": {
      "text/plain": [
       "Text(0, 0.5, 'y')"
      ]
     },
     "execution_count": 8,
     "metadata": {},
     "output_type": "execute_result"
    },
    {
     "data": {
      "image/png": "[encoded data removed]",
      "text/plain": [
       "<Figure size 432x288 with 1 Axes>"
      ]
     },
     "metadata": {
      "needs_background": "light"
     },
     "output_type": "display_data"
    }
   ],
   "source": [
    "# Plot\n",
    "plt.scatter(x,y)\n",
    "plt.plot(x, y_pred,'g')\n",
    "plt.xlabel('x')\n",
    "plt.ylabel('y')"
   ]
  },
  {
   "cell_type": "code",
   "execution_count": 9,
   "metadata": {},
   "outputs": [],
   "source": [
    "# Calculate the necessary Statistics\n",
    "Error_RSS, Error_ESS, Error_TSS = Statistical_Properties(x, y, m, b)"
   ]
  },
  {
   "cell_type": "markdown",
   "metadata": {},
   "source": [
    "# Hometask:\n",
    "### Now, Try to create your own code for with the above shown method using the data uploaded in Blackboard.\n",
    "I also didn"
   ]
  },
  {
   "cell_type": "code",
   "execution_count": null,
   "metadata": {},
   "outputs": [],
   "source": []
  }
 ],
 "metadata": {
  "kernelspec": {
   "display_name": "Python 3",
   "language": "python",
   "name": "python3"
  },
  "language_info": {
   "codemirror_mode": {
    "name": "ipython",
    "version": 3
   },
   "file_extension": ".py",
   "mimetype": "text/x-python",
   "name": "python",
   "nbconvert_exporter": "python",
   "pygments_lexer": "ipython3",
   "version": "3.7.3"
  }
 },
 "nbformat": 4,
 "nbformat_minor": 2
}
