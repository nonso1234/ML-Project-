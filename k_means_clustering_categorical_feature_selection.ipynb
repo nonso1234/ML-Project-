{
 "cells": [
  {
   "cell_type": "code",
   "execution_count": 5,
   "metadata": {},
   "outputs": [],
   "source": [
    "#Import libraries \n",
    "import numpy as np \n",
    "import matplotlib\n",
    "import matplotlib.pyplot as plt \n",
    "from scipy.spatial import distance\n",
    "from sklearn.neighbors import KNeighborsClassifier\n",
    "from sklearn.model_selection import GridSearchCV\n",
    "from sklearn.metrics import classification_report\n",
    "\n",
    "from sklearn.model_selection import train_test_split\n",
    "\n"
   ]
  },
  {
   "cell_type": "code",
   "execution_count": 6,
   "metadata": {},
   "outputs": [],
   "source": [
    "#Import EMG Dataset\n",
    "X = np.genfromtxt('traing_matrix05.csv', delimiter=',', skip_header=2)\n",
    "X1 = np.genfromtxt('test_matrix05.csv', delimiter=',', skip_header=2)\n",
    "\n",
    "m,n = np.shape(X)\n",
    "\n",
    "x_train = []\n",
    "y_train = [] \n",
    "x_test = []\n",
    "y_test = []\n",
    "\n",
    "\n",
    "#Split data x_train, y_train\n",
    "x_train = X[:,0:n-7]\n",
    "#y_train = X[:,65:71]\n",
    "y_train = X[:,64]\n",
    "\n",
    "\n",
    "#Test data \n",
    "x_test = X1[:,0:n-7]\n",
    "#y_test = X1[:,65:71]\n",
    "y_test=X1[:,64]\n",
    "\n",
    "y_class_test=X1[:,64]"
   ]
  },
  {
   "cell_type": "code",
   "execution_count": 7,
   "metadata": {},
   "outputs": [
    {
     "name": "stdout",
     "output_type": "stream",
     "text": [
      "240\n",
      "(624, 64)\n"
     ]
    }
   ],
   "source": [
    "print(len(x_test))\n",
    "print(np.shape(x_train))"
   ]
  },
  {
   "cell_type": "code",
   "execution_count": 8,
   "metadata": {},
   "outputs": [],
   "source": [
    "x_train_cl=[]\n",
    "\n",
    "for i in range(len(x_train)):\n",
    "    x_train_cl.append([])\n",
    "    h=0\n",
    "    for j in range (0, 8):\n",
    "        x_train_cl[i].append([])\n",
    "        x_train_cl[i][h]=x_train[i][0+8*j]\n",
    "        h=h+1\n",
    "        x_train_cl[i].append([])\n",
    "        x_train_cl[i][h]=x_train[i][1+8*j]\n",
    "        h=h+1\n",
    "        x_train_cl[i].append([])\n",
    "        x_train_cl[i][h]=x_train[i][4+8*j]\n",
    "        h=h+1\n",
    "\n",
    "x_test_cl=[]\n",
    "\n",
    "for i in range(len(x_test)):\n",
    "    x_test_cl.append([])\n",
    "    h=0\n",
    "    for j in range (0, 8):\n",
    "        x_test_cl[i].append([])\n",
    "        x_test_cl[i][h]=x_test[i][0+8*j]\n",
    "        h=h+1\n",
    "        x_test_cl[i].append([])\n",
    "        x_test_cl[i][h]=x_test[i][1+8*j]\n",
    "        h=h+1\n",
    "        x_test_cl[i].append([])\n",
    "        x_test_cl[i][h]=x_test[i][4+8*j]\n",
    "        h=h+1\n"
   ]
  },
  {
   "cell_type": "code",
   "execution_count": 9,
   "metadata": {},
   "outputs": [
    {
     "name": "stdout",
     "output_type": "stream",
     "text": [
      "624\n",
      "(624, 24)\n",
      "240\n"
     ]
    }
   ],
   "source": [
    "print(len(x_train_cl))\n",
    "print(np.shape(x_train_cl))\n",
    "print(len(x_test_cl))"
   ]
  },
  {
   "cell_type": "code",
   "execution_count": 10,
   "metadata": {},
   "outputs": [],
   "source": [
    "x_train_cl2=[]\n",
    "h=0\n",
    "for i in range(104):\n",
    "    x_train_cl2.append([])\n",
    "    x_train_cl2[h]=x_train_cl[1+6*i]\n",
    "    h=h+1\n",
    "    x_train_cl2.append([])\n",
    "    x_train_cl2[h]=x_train_cl[3+6*i]\n",
    "    h=h+1\n",
    "\n",
    "x_test_cl2=[]\n",
    "h=0\n",
    "for i in range(40):\n",
    "    x_test_cl2.append([])\n",
    "    x_test_cl2[h]=x_test_cl[1+6*i]\n",
    "    h=h+1\n",
    "    x_test_cl2.append([])\n",
    "    x_test_cl2[h]=x_test_cl[3+6*i]\n",
    "    h=h+1\n"
   ]
  },
  {
   "cell_type": "code",
   "execution_count": 11,
   "metadata": {},
   "outputs": [
    {
     "name": "stdout",
     "output_type": "stream",
     "text": [
      "(208, 24)\n",
      "80\n",
      "208\n",
      "(80, 24)\n"
     ]
    }
   ],
   "source": [
    "print(np.shape(x_train_cl2))\n",
    "print(h)\n",
    "\n",
    "print(len(x_train_cl2))\n",
    "\n",
    "print(np.shape(x_test_cl2))\n"
   ]
  },
  {
   "cell_type": "code",
   "execution_count": 12,
   "metadata": {},
   "outputs": [],
   "source": [
    "x_train_st=[]\n",
    "\n",
    "for i in range (int(len(x_train_cl2)/2)):\n",
    "    x_train_st.append([])\n",
    "    x_train_st[i]=np.hstack((x_train_cl2[i*2],x_train_cl2[i*2+1]))\n",
    "    \n",
    "x_test_st=[]\n",
    "\n",
    "for i in range (int(len(x_test_cl2)/2)):\n",
    "    x_test_st.append([])\n",
    "    x_test_st[i]=np.hstack((x_test_cl2[i*2],x_test_cl2[i*2+1]))"
   ]
  },
  {
   "cell_type": "code",
   "execution_count": 13,
   "metadata": {},
   "outputs": [
    {
     "name": "stdout",
     "output_type": "stream",
     "text": [
      "(104, 48)\n",
      "(40, 48)\n"
     ]
    }
   ],
   "source": [
    "print(np.shape(x_train_st))\n",
    "print(np.shape(x_test_st))\n",
    "x_test_st = np.asarray(x_test_st)\n",
    "x_train_st = np.asarray(x_train_st)"
   ]
  },
  {
   "cell_type": "code",
   "execution_count": 14,
   "metadata": {},
   "outputs": [],
   "source": [
    "from sklearn.cluster import KMeans\n",
    "clus=2\n",
    "#cluster=[]\n",
    "clusters=[]\n",
    "cx1=[]\n",
    "cy1=[]\n",
    "test_clus=[] #contains test set cluster value\n",
    "train_xc=[]\n",
    "train_yc=[]\n",
    "\n",
    "\n",
    "    #cluster.append([])\n",
    "cx1.append([])\n",
    "cy1.append([])\n",
    "clusters.append([])\n",
    "test_clus.append([])\n",
    "train_xc.append([])\n",
    "train_yc.append([])\n",
    "train_xc.append([])\n",
    "train_yc.append([])\n",
    "\n",
    "xx1_train=((x_train_st))\n",
    "kmeans = KMeans(n_clusters=clus, random_state=0).fit(xx1_train)\n",
    "clusters=kmeans.labels_\n",
    "    \n",
    "h=0;\n",
    "i=0;\n",
    "    \n",
    "for g in range (len(clusters-1)):\n",
    "\n",
    "    if clusters[g]==0:\n",
    "        for j in range (0,6):\n",
    "            train_xc[0].append([])\n",
    "            train_yc[0].append([])\n",
    "            train_xc[0][h]=x_train[(g*6)+j]\n",
    "            train_yc[0][h]= y_train[(g*6)+j]\n",
    "            h=h+1\n",
    "\n",
    "    if clusters[g]==1:\n",
    "            for j in range (0,6):\n",
    "                train_xc[1].append([])\n",
    "                train_yc[1].append([]) \n",
    "                train_xc[1][i]=x_train[(g*6)+j]\n",
    "                train_yc[1][i]=y_train[(g*6)+j]\n",
    "                i=i+1\n",
    "                \n"
   ]
  },
  {
   "cell_type": "code",
   "execution_count": 15,
   "metadata": {},
   "outputs": [
    {
     "name": "stdout",
     "output_type": "stream",
     "text": [
      "(2,)\n",
      "384\n",
      "240\n"
     ]
    }
   ],
   "source": [
    "print(np.shape(train_xc))\n",
    "print(len(train_xc[0]))\n",
    "print(len(train_xc[1]))\n",
    "\n"
   ]
  },
  {
   "cell_type": "code",
   "execution_count": 16,
   "metadata": {},
   "outputs": [],
   "source": [
    "from sklearn.cluster import KMeans\n",
    "clus=2\n",
    "\n",
    "xx1_train=((x_train_st))\n",
    "kmeans = KMeans(n_clusters=clus, random_state=0).fit(xx1_train)\n",
    "clusters=kmeans.labels_"
   ]
  },
  {
   "cell_type": "code",
   "execution_count": 17,
   "metadata": {},
   "outputs": [
    {
     "name": "stdout",
     "output_type": "stream",
     "text": [
      "[0 1 0 1 1 1 0 1 0 1 0 0 0 1 0 1 0 1 0 1 0 1 0 1 0 1 0 1 0 1 0 1 0 1 0 1 0\n",
      " 1 0 1 0 1 0 1 0 1 0 1 0 1 0 1 0 1 0 0 0 1 0 1 0 1 0 0 0 1 0 1 0 1 0 1 0 1\n",
      " 0 1 0 1 1 0 0 0 0 0 0 0 0 0 0 0 1 1 0 0 0 0 0 0 0 0 0 0 0 0]\n",
      "104\n"
     ]
    }
   ],
   "source": [
    "print(clusters)\n",
    "print(len(clusters))\n",
    "x_train_st=np.asarray(x_train_st)"
   ]
  },
  {
   "cell_type": "code",
   "execution_count": 18,
   "metadata": {},
   "outputs": [
    {
     "name": "stdout",
     "output_type": "stream",
     "text": [
      "104\n"
     ]
    },
    {
     "data": {
      "text/plain": [
       "<matplotlib.collections.PathCollection at 0x74669b52e8>"
      ]
     },
     "execution_count": 18,
     "metadata": {},
     "output_type": "execute_result"
    },
    {
     "data": {
      "image/png": "[encoded data removed]",
      "text/plain": [
       "<Figure size 432x288 with 1 Axes>"
      ]
     },
     "metadata": {
      "needs_background": "light"
     },
     "output_type": "display_data"
    }
   ],
   "source": [
    "from mpl_toolkits.mplot3d import Axes3D\n",
    "print(len(clusters))\n",
    "plt.scatter(x_train_st[:,0],x_train_st[:,3], c=kmeans.labels_, cmap='rainbow')"
   ]
  },
  {
   "cell_type": "code",
   "execution_count": 19,
   "metadata": {},
   "outputs": [],
   "source": [
    "# Categorize the subject\n",
    "from sklearn.cluster import KMeans\n",
    "clus=2\n",
    "\n",
    "xx1_train=((x_train_st))\n",
    "kmeans = KMeans(n_clusters=clus, random_state=0).fit(xx1_train)\n",
    "clusters=kmeans.labels_\n",
    "y_pred=kmeans.predict(x_test_st)"
   ]
  },
  {
   "cell_type": "code",
   "execution_count": 20,
   "metadata": {},
   "outputs": [
    {
     "name": "stdout",
     "output_type": "stream",
     "text": [
      "[0 1 0 1 0 0 0 1 0 1 0 1 0 1 0 1 1 1 1 1 1 1 1 1 0 1 1 1 1 1 1 1 1 1 1 1 1\n",
      " 1 1 1]\n",
      "30\n",
      "40\n"
     ]
    }
   ],
   "source": [
    "print(y_pred)\n",
    "print(sum(y_pred))\n",
    "print(len(y_pred))"
   ]
  },
  {
   "cell_type": "code",
   "execution_count": 21,
   "metadata": {},
   "outputs": [],
   "source": [
    "h=0\n",
    "i=0\n",
    "test_xc=[]\n",
    "test_yc=[]\n",
    "test_xc.append([])\n",
    "test_yc.append([])\n",
    "test_xc.append([])\n",
    "test_yc.append([])\n",
    "\n",
    "\n",
    "for g in range (len(y_pred)):\n",
    "    \n",
    "    if y_pred[g]==0:\n",
    "        for j in range(0,6):\n",
    "            test_xc[0].append([])\n",
    "            test_yc[0].append([])\n",
    "            test_xc[0][h]=x_test[(g*6)+j]\n",
    "            test_yc[0][h]= y_test[(g*6)+j]\n",
    "            h=h+1\n",
    "        \n",
    "    if y_pred[g]==1:\n",
    "        for j in range (0,6):\n",
    "            test_xc[1].append([])\n",
    "            test_yc[1].append([])\n",
    "            test_xc[1][i]=x_test[(g*6)+j]\n",
    "            test_yc[1][i]= y_test[(g*6)+j]\n",
    "            i=i+1"
   ]
  },
  {
   "cell_type": "code",
   "execution_count": null,
   "metadata": {},
   "outputs": [],
   "source": [
    "\n",
    "        "
   ]
  },
  {
   "cell_type": "code",
   "execution_count": 22,
   "metadata": {},
   "outputs": [
    {
     "name": "stdout",
     "output_type": "stream",
     "text": [
      "60\n",
      "180\n",
      "2\n",
      "60\n",
      "1.0\n",
      "2.0\n",
      "3.0\n",
      "4.0\n",
      "5.0\n",
      "6.0\n"
     ]
    }
   ],
   "source": [
    "print(len(test_xc[0]))\n",
    "print(len(test_xc[1]))\n",
    "print(len(test_xc))\n",
    "print(len(test_xc[0]))\n",
    "print(test_yc[1][0])\n",
    "print(test_yc[1][1])\n",
    "print(test_yc[1][2])\n",
    "print(test_yc[1][3])\n",
    "print(test_yc[1][4])\n",
    "print(test_yc[1][5])"
   ]
  },
  {
   "cell_type": "code",
   "execution_count": 23,
   "metadata": {},
   "outputs": [
    {
     "name": "stdout",
     "output_type": "stream",
     "text": [
      "[1.0, 2.0, 3.0, 4.0, 5.0, 6.0, 1.0, 2.0, 3.0, 4.0, 5.0, 6.0, 1.0, 2.0, 3.0, 4.0, 5.0, 6.0, 1.0, 2.0, 3.0, 4.0, 5.0, 6.0, 1.0, 2.0, 3.0, 4.0, 5.0, 6.0, 1.0, 2.0, 3.0, 4.0, 5.0, 6.0, 1.0, 2.0, 3.0, 4.0, 5.0, 6.0, 1.0, 2.0, 3.0, 4.0, 5.0, 6.0, 1.0, 2.0, 3.0, 4.0, 5.0, 6.0, 1.0, 2.0, 3.0, 4.0, 5.0, 6.0]\n",
      "60\n"
     ]
    }
   ],
   "source": [
    "print(test_yc[0])\n",
    "print(len(test_yc[0]))"
   ]
  },
  {
   "cell_type": "code",
   "execution_count": 24,
   "metadata": {},
   "outputs": [],
   "source": [
    "from sklearn.neighbors import KNeighborsClassifier\n",
    "pred=[]\n",
    "prob=[]\n",
    "for f in range(len(test_xc)):\n",
    "    pred.append([])\n",
    "    prob.append([])\n",
    "    neigh=KNeighborsClassifier(n_neighbors=10)\n",
    "    neigh.fit(train_xc[f],train_yc[f])\n",
    "    pred[f]=neigh.predict(test_xc[f])\n",
    "    prob[f]=neigh.predict_proba(test_xc[f])\n",
    "        \n",
    "        \n",
    "    "
   ]
  },
  {
   "cell_type": "code",
   "execution_count": 25,
   "metadata": {},
   "outputs": [],
   "source": [
    "import pandas as pd\n",
    "import numpy as np\n",
    "from io import StringIO\n",
    "from sklearn.preprocessing import Imputer\n",
    "from sklearn.preprocessing import LabelEncoder\n",
    "from sklearn.preprocessing import OneHotEncoder\n",
    "from sklearn.preprocessing import MinMaxScaler\n",
    "from sklearn.preprocessing import StandardScaler\n",
    "from sklearn.linear_model import LogisticRegression\n",
    "from sklearn.neighbors import KNeighborsClassifier\n",
    "from sklearn.ensemble import RandomForestClassifier\n",
    "from sklearn.base import clone\n",
    "from sklearn.metrics import accuracy_score\n",
    "from itertools import combinations\n",
    "import matplotlib.pyplot as plt\n",
    "\n",
    "# for sklearn 0.18's alternative syntax\n",
    "from distutils.version import LooseVersion as Version\n",
    "from sklearn import __version__ as sklearn_version\n",
    "if Version(sklearn_version) < '0.18':\n",
    "    from sklearn.grid_search import train_test_split\n",
    "else:\n",
    "    from sklearn.model_selection import train_test_split"
   ]
  },
  {
   "cell_type": "code",
   "execution_count": 26,
   "metadata": {},
   "outputs": [],
   "source": [
    "class SBS():\n",
    "    def __init__(self, estimator, k_features, scoring=accuracy_score,\n",
    "                 test_size=0.25, random_state=1):\n",
    "        self.scoring = scoring\n",
    "        self.estimator = clone(estimator)\n",
    "        self.k_features = k_features\n",
    "        self.test_size = test_size\n",
    "        self.random_state = random_state\n",
    "\n",
    "    def fit(self, X, y):\n",
    "\n",
    "        X_train, X_test, y_train, y_test = \\\n",
    "            train_test_split(X, y, test_size=self.test_size,\n",
    "                             random_state=self.random_state)\n",
    "\n",
    "        dim = X_train.shape[1]\n",
    "        self.indices_ = tuple(range(dim))\n",
    "        self.subsets_ = [self.indices_]\n",
    "        score = self._calc_score(X_train, y_train,\n",
    "                                 X_test, y_test, self.indices_)\n",
    "        self.scores_ = [score]\n",
    "\n",
    "        while dim > self.k_features:\n",
    "            scores = []\n",
    "            subsets = []\n",
    "\n",
    "            for p in combinations(self.indices_, r=dim - 1):\n",
    "                score = self._calc_score(X_train, y_train,\n",
    "                                         X_test, y_test, p)\n",
    "                scores.append(score)\n",
    "                subsets.append(p)\n",
    "\n",
    "            best = np.argmax(scores)\n",
    "            self.indices_ = subsets[best]\n",
    "            self.subsets_.append(self.indices_)\n",
    "            dim -= 1\n",
    "\n",
    "            self.scores_.append(scores[best])\n",
    "        self.k_score_ = self.scores_[-1]\n",
    "\n",
    "        return self\n",
    "\n",
    "    def transform(self, X):\n",
    "        return X[:, self.indices_]\n",
    "\n",
    "    def _calc_score(self, X_train, y_train, X_test, y_test, indices):\n",
    "        self.estimator.fit(X_train[:, indices], y_train)\n",
    "        y_pred = self.estimator.predict(X_test[:, indices])\n",
    "        score = self.scoring(y_test, y_pred)\n",
    "        return score"
   ]
  },
  {
   "cell_type": "code",
   "execution_count": 49,
   "metadata": {},
   "outputs": [
    {
     "name": "stdout",
     "output_type": "stream",
     "text": [
      "1\n"
     ]
    }
   ],
   "source": [
    "\n",
    "print(f)"
   ]
  },
  {
   "cell_type": "code",
   "execution_count": 58,
   "metadata": {},
   "outputs": [
    {
     "data": {
      "image/png": "[encoded data removed]",
      "text/plain": [
       "<Figure size 432x288 with 1 Axes>"
      ]
     },
     "metadata": {
      "needs_background": "light"
     },
     "output_type": "display_data"
    }
   ],
   "source": [
    "knn=neigh\n",
    "\n",
    "# selecting features\n",
    "sbs = SBS(knn, k_features=1)\n",
    "sbs.fit(np.array(test_xc[0]), np.array(test_yc[0]))\n",
    "\n",
    "# plotting performance of feature subsets\n",
    "k_feat = [len(k) for k in sbs.subsets_]\n",
    "\n",
    "plt.plot(k_feat, sbs.scores_, marker='o')\n",
    "plt.ylim([0, 1])\n",
    "plt.ylabel('Accuracy')\n",
    "plt.xlabel('Number of features')\n",
    "plt.grid()\n",
    "# plt.tight_layout()\n",
    "# plt.savefig('./sbs.png', dpi=300)\n",
    "plt.show()\n",
    "\n"
   ]
  },
  {
   "cell_type": "code",
   "execution_count": 57,
   "metadata": {},
   "outputs": [
    {
     "name": "stdout",
     "output_type": "stream",
     "text": [
      "(0, 2, 3, 8, 10, 11, 12, 16, 18, 20, 26, 27, 28, 32, 34, 40, 43, 50, 52, 56, 58, 60)\n"
     ]
    }
   ],
   "source": [
    "print(sbs.subsets_[-22])"
   ]
  },
  {
   "cell_type": "code",
   "execution_count": 39,
   "metadata": {},
   "outputs": [
    {
     "ename": "NameError",
     "evalue": "name 'df_wine' is not defined",
     "output_type": "error",
     "traceback": [
      "\u001b[1;31m---------------------------------------------------------------------------\u001b[0m",
      "\u001b[1;31mNameError\u001b[0m                                 Traceback (most recent call last)",
      "\u001b[1;32m<ipython-input-39-c6c17d5e83c3>\u001b[0m in \u001b[0;36m<module>\u001b[1;34m\u001b[0m\n\u001b[0;32m      1\u001b[0m \u001b[0mk5\u001b[0m \u001b[1;33m=\u001b[0m \u001b[0mlist\u001b[0m\u001b[1;33m(\u001b[0m\u001b[0msbs\u001b[0m\u001b[1;33m.\u001b[0m\u001b[0msubsets_\u001b[0m\u001b[1;33m[\u001b[0m\u001b[1;36m8\u001b[0m\u001b[1;33m]\u001b[0m\u001b[1;33m)\u001b[0m\u001b[1;33m\u001b[0m\u001b[1;33m\u001b[0m\u001b[0m\n\u001b[1;32m----> 2\u001b[1;33m \u001b[0mprint\u001b[0m\u001b[1;33m(\u001b[0m\u001b[1;34m'Selected top 5 features:\\n'\u001b[0m\u001b[1;33m,\u001b[0m \u001b[0mdf_wine\u001b[0m\u001b[1;33m.\u001b[0m\u001b[0mcolumns\u001b[0m\u001b[1;33m[\u001b[0m\u001b[1;36m1\u001b[0m\u001b[1;33m:\u001b[0m\u001b[1;33m]\u001b[0m\u001b[1;33m[\u001b[0m\u001b[0mk5\u001b[0m\u001b[1;33m]\u001b[0m\u001b[1;33m)\u001b[0m\u001b[1;33m\u001b[0m\u001b[1;33m\u001b[0m\u001b[0m\n\u001b[0m\u001b[0;32m      3\u001b[0m \u001b[1;33m\u001b[0m\u001b[0m\n\u001b[0;32m      4\u001b[0m \u001b[0mknn\u001b[0m\u001b[1;33m.\u001b[0m\u001b[0mfit\u001b[0m\u001b[1;33m(\u001b[0m\u001b[0mX_train_std\u001b[0m\u001b[1;33m,\u001b[0m \u001b[0my_train\u001b[0m\u001b[1;33m)\u001b[0m\u001b[1;33m\u001b[0m\u001b[1;33m\u001b[0m\u001b[0m\n\u001b[0;32m      5\u001b[0m \u001b[0mprint\u001b[0m\u001b[1;33m(\u001b[0m\u001b[1;34m'\\nPerformance using all features:\\n'\u001b[0m\u001b[1;33m)\u001b[0m\u001b[1;33m\u001b[0m\u001b[1;33m\u001b[0m\u001b[0m\n",
      "\u001b[1;31mNameError\u001b[0m: name 'df_wine' is not defined"
     ]
    }
   ],
   "source": [
    "k5 = list(sbs.subsets_[8])\n",
    "print('Selected top 5 features:\\n', df_wine.columns[1:][k5])\n",
    "\n",
    "knn.fit(X_train_std, y_train)\n",
    "print('\\nPerformance using all features:\\n')\n",
    "print('Training accuracy:', knn.score(X_train_std, y_train))\n",
    "print('Test accuracy:', knn.score(X_test_std, y_test))\n",
    "\n",
    "knn.fit(X_train_std[:, k5], y_train)\n",
    "print('\\nPerformance using the top 5 features:\\n')\n",
    "print('Training accuracy:', knn.score(X_train_std[:, k5], y_train))\n",
    "print('Test accuracy:', knn.score(X_test_std[:, k5], y_test))\n"
   ]
  },
  {
   "cell_type": "code",
   "execution_count": 197,
   "metadata": {},
   "outputs": [
    {
     "name": "stdout",
     "output_type": "stream",
     "text": [
      "60\n",
      "180\n"
     ]
    }
   ],
   "source": [
    "print(len(pred[0]))\n",
    "print(len(pred[1]))"
   ]
  },
  {
   "cell_type": "code",
   "execution_count": 198,
   "metadata": {},
   "outputs": [
    {
     "name": "stdout",
     "output_type": "stream",
     "text": [
      "[1. 2. 3. 4. 5. 6. 1. 2. 3. 4. 4. 6. 5. 2. 3. 4. 5. 4. 6. 2. 3. 4. 5. 6.\n",
      " 1. 2. 3. 4. 5. 6. 1. 2. 3. 4. 5. 6. 1. 2. 3. 4. 3. 6. 1. 2. 1. 4. 5. 6.\n",
      " 1. 2. 3. 4. 4. 3. 1. 1. 4. 4. 6. 6.]\n",
      "[1. 2. 3. 3. 5. 5. 1. 2. 3. 3. 5. 5. 1. 2. 3. 4. 5. 5. 1. 2. 3. 4. 5. 5.\n",
      " 3. 2. 3. 2. 5. 5. 1. 6. 3. 4. 5. 5. 1. 2. 3. 4. 5. 5. 1. 1. 3. 4. 5. 5.\n",
      " 2. 3. 4. 4. 4. 5. 1. 2. 3. 4. 2. 2. 3. 2. 3. 4. 6. 6. 1. 1. 3. 3. 5. 5.\n",
      " 1. 2. 3. 4. 5. 5. 1. 2. 3. 4. 5. 5. 1. 2. 3. 4. 5. 5. 3. 2. 3. 3. 6. 6.\n",
      " 4. 2. 4. 2. 3. 3. 4. 2. 4. 4. 3. 3. 1. 2. 3. 4. 5. 5. 1. 2. 3. 4. 2. 2.\n",
      " 1. 2. 3. 4. 5. 5. 1. 2. 3. 4. 5. 5. 1. 2. 3. 3. 2. 2. 1. 2. 3. 3. 5. 5.\n",
      " 1. 5. 4. 4. 5. 5. 1. 2. 3. 4. 2. 2. 1. 2. 3. 4. 5. 5. 1. 2. 3. 4. 5. 5.\n",
      " 1. 2. 3. 4. 6. 6. 1. 2. 3. 4. 5. 5.]\n"
     ]
    }
   ],
   "source": [
    "print(pred[0])\n",
    "print(pred[1])"
   ]
  },
  {
   "cell_type": "code",
   "execution_count": 199,
   "metadata": {},
   "outputs": [
    {
     "name": "stdout",
     "output_type": "stream",
     "text": [
      "0.7041666666666667\n"
     ]
    }
   ],
   "source": [
    "match1=0;\n",
    "match2=0;\n",
    "for f in range(len(pred)):\n",
    "    \n",
    "    for g in range (len(pred[f])):\n",
    "        if pred[f][g]==test_yc[f][g]:\n",
    "            match1=match1+1\n",
    "            \n",
    "print(match1/240)       "
   ]
  },
  {
   "cell_type": "code",
   "execution_count": 209,
   "metadata": {},
   "outputs": [
    {
     "ename": "TypeError",
     "evalue": "confusion_matrix() got an unexpected keyword argument 'normalize'",
     "output_type": "error",
     "traceback": [
      "\u001b[1;31m---------------------------------------------------------------------------\u001b[0m",
      "\u001b[1;31mTypeError\u001b[0m                                 Traceback (most recent call last)",
      "\u001b[1;32m<ipython-input-209-b176b5a8c025>\u001b[0m in \u001b[0;36m<module>\u001b[1;34m\u001b[0m\n\u001b[0;32m      1\u001b[0m \u001b[1;32mfrom\u001b[0m \u001b[0msklearn\u001b[0m\u001b[1;33m.\u001b[0m\u001b[0mmetrics\u001b[0m \u001b[1;32mimport\u001b[0m \u001b[0mconfusion_matrix\u001b[0m\u001b[1;33m\u001b[0m\u001b[1;33m\u001b[0m\u001b[0m\n\u001b[0;32m      2\u001b[0m \u001b[0mconfu\u001b[0m\u001b[1;33m=\u001b[0m\u001b[0mconfusion_matrix\u001b[0m\u001b[1;33m(\u001b[0m\u001b[0mnp\u001b[0m\u001b[1;33m.\u001b[0m\u001b[0mhstack\u001b[0m\u001b[1;33m(\u001b[0m\u001b[1;33m(\u001b[0m\u001b[0mpred\u001b[0m\u001b[1;33m[\u001b[0m\u001b[1;36m0\u001b[0m\u001b[1;33m]\u001b[0m\u001b[1;33m,\u001b[0m\u001b[0mpred\u001b[0m\u001b[1;33m[\u001b[0m\u001b[1;36m1\u001b[0m\u001b[1;33m]\u001b[0m\u001b[1;33m)\u001b[0m\u001b[1;33m)\u001b[0m\u001b[1;33m,\u001b[0m\u001b[0mnp\u001b[0m\u001b[1;33m.\u001b[0m\u001b[0mhstack\u001b[0m\u001b[1;33m(\u001b[0m\u001b[1;33m(\u001b[0m\u001b[0mtest_yc\u001b[0m\u001b[1;33m[\u001b[0m\u001b[1;36m0\u001b[0m\u001b[1;33m]\u001b[0m\u001b[1;33m,\u001b[0m\u001b[0mtest_yc\u001b[0m\u001b[1;33m[\u001b[0m\u001b[1;36m1\u001b[0m\u001b[1;33m]\u001b[0m\u001b[1;33m)\u001b[0m\u001b[1;33m)\u001b[0m\u001b[1;33m)\u001b[0m\u001b[1;33m\u001b[0m\u001b[1;33m\u001b[0m\u001b[0m\n\u001b[1;32m----> 3\u001b[1;33m \u001b[0mconfu_norm\u001b[0m\u001b[1;33m=\u001b[0m\u001b[0mconfusion_matrix\u001b[0m\u001b[1;33m(\u001b[0m\u001b[0mnp\u001b[0m\u001b[1;33m.\u001b[0m\u001b[0mhstack\u001b[0m\u001b[1;33m(\u001b[0m\u001b[1;33m(\u001b[0m\u001b[0mpred\u001b[0m\u001b[1;33m[\u001b[0m\u001b[1;36m0\u001b[0m\u001b[1;33m]\u001b[0m\u001b[1;33m,\u001b[0m\u001b[0mpred\u001b[0m\u001b[1;33m[\u001b[0m\u001b[1;36m1\u001b[0m\u001b[1;33m]\u001b[0m\u001b[1;33m)\u001b[0m\u001b[1;33m)\u001b[0m\u001b[1;33m,\u001b[0m\u001b[0mnp\u001b[0m\u001b[1;33m.\u001b[0m\u001b[0mhstack\u001b[0m\u001b[1;33m(\u001b[0m\u001b[1;33m(\u001b[0m\u001b[0mtest_yc\u001b[0m\u001b[1;33m[\u001b[0m\u001b[1;36m0\u001b[0m\u001b[1;33m]\u001b[0m\u001b[1;33m,\u001b[0m\u001b[0mtest_yc\u001b[0m\u001b[1;33m[\u001b[0m\u001b[1;36m1\u001b[0m\u001b[1;33m]\u001b[0m\u001b[1;33m)\u001b[0m\u001b[1;33m)\u001b[0m\u001b[1;33m,\u001b[0m\u001b[0mnormalize\u001b[0m\u001b[1;33m=\u001b[0m\u001b[1;32mTrue\u001b[0m\u001b[1;33m)\u001b[0m\u001b[1;33m\u001b[0m\u001b[1;33m\u001b[0m\u001b[0m\n\u001b[0m",
      "\u001b[1;31mTypeError\u001b[0m: confusion_matrix() got an unexpected keyword argument 'normalize'"
     ]
    }
   ],
   "source": [
    "from sklearn.metrics import confusion_matrix\n",
    "confu=confusion_matrix(np.hstack((pred[0],pred[1])),np.hstack((test_yc[0],test_yc[1])))\n"
   ]
  },
  {
   "cell_type": "code",
   "execution_count": 208,
   "metadata": {},
   "outputs": [
    {
     "name": "stdout",
     "output_type": "stream",
     "text": [
      "[[32  3  1  0  0  0]\n",
      " [ 1 34  0  2  4  4]\n",
      " [ 3  1 34  6  3  3]\n",
      " [ 2  0  5 32  3  1]\n",
      " [ 1  1  0  0 26 21]\n",
      " [ 1  1  0  0  4 11]]\n"
     ]
    }
   ],
   "source": [
    "print(confu)"
   ]
  },
  {
   "cell_type": "code",
   "execution_count": 240,
   "metadata": {},
   "outputs": [
    {
     "data": {
      "text/plain": [
       "<matplotlib.axes._subplots.AxesSubplot at 0xa0f73ef128>"
      ]
     },
     "execution_count": 240,
     "metadata": {},
     "output_type": "execute_result"
    },
    {
     "data": {
      "image/png": "[encoded data removed]",
      "text/plain": [
       "<Figure size 720x504 with 2 Axes>"
      ]
     },
     "metadata": {
      "needs_background": "light"
     },
     "output_type": "display_data"
    }
   ],
   "source": [
    "\n",
    "import seaborn as sn\n",
    "import pandas as pd\n",
    "import matplotlib.pyplot as plt\n",
    "\n",
    "df_cm = pd.DataFrame(confu, index = [i for i in \"123456\"],\n",
    "                  columns = [i for i in \"123456\"])\n",
    "plt.figure(figsize = (10,7))\n",
    "sn.heatmap(df_cm, annot=True, center=40 )"
   ]
  },
  {
   "cell_type": "code",
   "execution_count": null,
   "metadata": {},
   "outputs": [],
   "source": []
  },
  {
   "cell_type": "code",
   "execution_count": null,
   "metadata": {},
   "outputs": [],
   "source": []
  }
 ],
 "metadata": {
  "kernelspec": {
   "display_name": "Python 3",
   "language": "python",
   "name": "python3"
  },
  "language_info": {
   "codemirror_mode": {
    "name": "ipython",
    "version": 3
   },
   "file_extension": ".py",
   "mimetype": "text/x-python",
   "name": "python",
   "nbconvert_exporter": "python",
   "pygments_lexer": "ipython3",
   "version": "3.7.3"
  }
 },
 "nbformat": 4,
 "nbformat_minor": 2
}
