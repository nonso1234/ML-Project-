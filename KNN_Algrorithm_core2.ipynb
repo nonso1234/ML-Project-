{
 "cells": [
  {
   "cell_type": "code",
   "execution_count": 4,
   "metadata": {},
   "outputs": [],
   "source": [
    "#Import libraries \n",
    "import numpy as np \n",
    "import matplotlib as plt \n",
    "from scipy.spatial import distance\n",
    "from sklearn.neighbors import KNeighborsClassifier\n",
    "from sklearn.model_selection import GridSearchCV\n",
    "from sklearn.metrics import classification_report\n",
    "\n",
    "from sklearn.model_selection import train_test_split\n",
    "\n",
    "\n"
   ]
  },
  {
   "cell_type": "code",
   "execution_count": 63,
   "metadata": {},
   "outputs": [],
   "source": [
    "#Import EMG Dataset\n",
    "X = np.genfromtxt('training_matrix03.csv', delimiter=',', skip_header=2)\n",
    "X1 = np.genfromtxt('test_matrix01.csv', delimiter=',', skip_header=2)\n",
    "\n",
    "m,n = np.shape(X)\n",
    "\n",
    "x_train = []\n",
    "y_train = [] \n",
    "x_test = []\n",
    "y_test = []\n",
    "\n",
    "\n",
    "#Split data x_train, y_train\n",
    "x_train = X[:,1:n-1]\n",
    "y_train = X[:,64]\n",
    "\n",
    "\n",
    "#Test data \n",
    "x_test = X1[:,1:n-1]\n",
    "y_test = X1[:,64]\n",
    "\n"
   ]
  },
  {
   "cell_type": "code",
   "execution_count": 62,
   "metadata": {},
   "outputs": [
    {
     "data": {
      "text/plain": [
       "(240, 63)"
      ]
     },
     "execution_count": 62,
     "metadata": {},
     "output_type": "execute_result"
    }
   ],
   "source": [
    "np.shape(x_test)"
   ]
  },
  {
   "cell_type": "code",
   "execution_count": 105,
   "metadata": {},
   "outputs": [],
   "source": [
    "distance \n",
    "\n",
    "#view distance matrix \n",
    "def distance_cost_grid(distances):\n",
    "    im = plt.imshow(distances, interpolation='nearest', cmap='Reds') \n",
    "    plt.gca().invert_yaxis()\n",
    "    plt.xlabel(\"X\")\n",
    "    plt.ylabel(\"Y\")\n",
    "    plt.grid()\n",
    "    plt.colorbar();\n",
    "    "
   ]
  },
  {
   "cell_type": "code",
   "execution_count": 106,
   "metadata": {},
   "outputs": [
    {
     "data": {
      "image/png": "[encoded data removed]",
      "text/plain": [
       "<Figure size 432x288 with 2 Axes>"
      ]
     },
     "metadata": {
      "needs_background": "light"
     },
     "output_type": "display_data"
    }
   ],
   "source": [
    "distance_cost_grid(distance)"
   ]
  },
  {
   "cell_type": "code",
   "execution_count": 52,
   "metadata": {},
   "outputs": [
    {
     "data": {
      "text/plain": [
       "array([[2.14009950e-02, 5.98579000e-02, 6.96497590e-01, ...,\n",
       "        6.24415967e+01, 7.27772442e-01, 7.27772442e-01],\n",
       "       [1.57046055e-01, 4.67667184e-01, 9.84250144e-01, ...,\n",
       "        4.57180088e+01, 7.29494383e-01, 7.29494383e-01],\n",
       "       [1.71323955e-01, 1.67300549e-01, 1.40920440e+00, ...,\n",
       "        4.44866291e+01, 5.98878356e-01, 5.98878356e-01],\n",
       "       ...,\n",
       "       [6.49464230e-02, 1.30836992e-01, 2.75236940e-01, ...,\n",
       "        1.46716716e+01, 6.07373925e-01, 6.07373925e-01],\n",
       "       [8.94457420e-02, 6.78925200e-02, 4.38907103e-01, ...,\n",
       "        2.36233059e+01, 6.04955670e-01, 6.04955670e-01],\n",
       "       [1.81017378e-01, 1.88122721e-01, 1.01189888e+00, ...,\n",
       "        5.14200844e+01, 6.50080402e-01, 6.50080402e-01]])"
      ]
     },
     "execution_count": 52,
     "metadata": {},
     "output_type": "execute_result"
    }
   ],
   "source": [
    "np.array(x_train)"
   ]
  },
  {
   "cell_type": "code",
   "execution_count": 9,
   "metadata": {},
   "outputs": [],
   "source": [
    "#test with small data set \n",
    "X = np.random.random((100,10))\n",
    "y = np.random.randint(0,2, (100))\n",
    "x_train, x_test, y_train, y_test = train_test_split(X, y, test_size=0.2, random_state=42)"
   ]
  },
  {
   "cell_type": "code",
   "execution_count": 22,
   "metadata": {},
   "outputs": [
    {
     "name": "stdout",
     "output_type": "stream",
     "text": [
      "Fitting 3 folds for each of 3 candidates, totalling 9 fits\n",
      "[CV] n_neighbors=2 ...................................................\n",
      "[CV] .......... n_neighbors=2, score=0.6521739130434783, total=   2.4s\n",
      "[CV] n_neighbors=2 ...................................................\n"
     ]
    },
    {
     "name": "stderr",
     "output_type": "stream",
     "text": [
      "[Parallel(n_jobs=1)]: Done   1 out of   1 | elapsed:    6.7s remaining:    0.0s\n"
     ]
    },
    {
     "name": "stdout",
     "output_type": "stream",
     "text": [
      "[CV] .......... n_neighbors=2, score=0.6363636363636364, total=   1.1s\n",
      "[CV] n_neighbors=2 ...................................................\n"
     ]
    },
    {
     "name": "stderr",
     "output_type": "stream",
     "text": [
      "[Parallel(n_jobs=1)]: Done   2 out of   2 | elapsed:   10.4s remaining:    0.0s\n"
     ]
    },
    {
     "name": "stdout",
     "output_type": "stream",
     "text": [
      "[CV] .......... n_neighbors=2, score=0.6363636363636364, total=   2.2s\n",
      "[CV] n_neighbors=4 ...................................................\n",
      "[CV] .......... n_neighbors=4, score=0.6521739130434783, total=   1.4s\n",
      "[CV] n_neighbors=4 ...................................................\n",
      "[CV] .......... n_neighbors=4, score=0.6363636363636364, total=   1.8s\n",
      "[CV] n_neighbors=4 ...................................................\n",
      "[CV] .......... n_neighbors=4, score=0.6363636363636364, total=   3.2s\n",
      "[CV] n_neighbors=8 ...................................................\n",
      "[CV] .......... n_neighbors=8, score=0.6521739130434783, total=   2.3s\n",
      "[CV] n_neighbors=8 ...................................................\n",
      "[CV] .......... n_neighbors=8, score=0.6363636363636364, total=   2.6s\n",
      "[CV] n_neighbors=8 ...................................................\n",
      "[CV] .......... n_neighbors=8, score=0.6363636363636364, total=   1.3s\n"
     ]
    },
    {
     "name": "stderr",
     "output_type": "stream",
     "text": [
      "[Parallel(n_jobs=1)]: Done   9 out of   9 | elapsed:   56.7s finished\n"
     ]
    },
    {
     "name": "stdout",
     "output_type": "stream",
     "text": [
      "             precision    recall  f1-score   support\n",
      "\n",
      "          0       0.45      1.00      0.62        15\n",
      "          1       0.00      0.00      0.00        18\n",
      "\n",
      "avg / total       0.21      0.45      0.28        33\n",
      "\n"
     ]
    },
    {
     "name": "stderr",
     "output_type": "stream",
     "text": [
      "C:\\Program Files (x86)\\Microsoft Visual Studio\\Shared\\Anaconda3_64\\lib\\site-packages\\sklearn\\metrics\\classification.py:1135: UndefinedMetricWarning: Precision and F-score are ill-defined and being set to 0.0 in labels with no predicted samples.\n",
      "  'precision', 'predicted', average, warn_for)\n"
     ]
    }
   ],
   "source": [
    "#Using Dynamic time warp as custom metric \n",
    "def DTW(x,y):   \n",
    "    i = x.size\n",
    "    j = y.size\n",
    "    #compute distance matrix using library \n",
    "    distance_mat = distance.cdist(x.reshape(-1,1),y.reshape(-1,1))\n",
    "    #initialize cumulative distance array with inf and start point (0,0)\n",
    "    cumdist = np.matrix(np.ones((i+1,j+1)) * np.inf)\n",
    "    cumdist[0,0] = 0 #start point \n",
    "\n",
    "    for i in range(i):\n",
    "        for j in range(j):\n",
    "            minimum_cost = np.min([cumdist[i, j+1],\n",
    "                                   cumdist[i+1, j],\n",
    "                                   cumdist[i, j]])\n",
    "            cumdist[i+1, j+1] = distance_mat[i,j] + minimum_cost\n",
    "\n",
    "    return cumdist[i, j]  \n",
    "\n",
    "#Train using knn library \n",
    "parameters = {'n_neighbors':[2,4,8]} #using one \n",
    "clf = GridSearchCV(KNeighborsClassifier(metric=DTW), parameters, verbose=3)\n",
    "clf.fit(x_train, y_train)\n",
    "\n",
    "\n",
    "#evaluate\n",
    "y_pred = clf.predict(x_test)\n",
    "print(classification_report(y_test, y_pred))"
   ]
  },
  {
   "cell_type": "code",
   "execution_count": null,
   "metadata": {},
   "outputs": [],
   "source": [
    "\"\"\"\"#Use DTW with in-built knn from library \n",
    "#accumulated cost for taking all paths: we want to find the min path in the cost matrix \n",
    "#start from (0,0)\n",
    "def Dynamic_time_warp(x):\n",
    "#input is the two time series data => train and test \n",
    "#output is the minimum paths \n",
    "\n",
    "#compute the distance matrix using the euclidean distance between points \n",
    "    for i in range(len(x)):\n",
    "        for j in range(len(x)):\n",
    "            distance[i,j] =  (x[j] - x[i])**2\n",
    "        \n",
    "        \n",
    "    cost_mat = np.zeros((len(x), len(x))) #initialize cost matrix \n",
    "\n",
    "    #Starting point \n",
    "    cost_mat[0,0] =  distance[0,0] \n",
    "\n",
    "    #moving along the first row form (0,0)\n",
    "    for i in range(1, len(x)):\n",
    "        cost_mat[0,i] =  distance[0,i] +cost_mat[0,i-1]\n",
    "\n",
    "    #moving from (0,0) upwards \n",
    "    for i in range(1,len(x)):\n",
    "        cost_mat[i,0] = distance[i,0] + cost_mat[i-1, 0]\n",
    "    \n",
    "    #compute minimum \n",
    "    for i in range(1,len(x)):\n",
    "        for i in range(1,len(x)):\n",
    "            cost_mat[i,j] = distance[i,j] + min(cost_mat[i-1, j-1], cost_mat[i-1, j], cost_mat[i, j-1])\n",
    "        \n",
    "    return cost_mat[i,j]\"\"\"\n"
   ]
  },
  {
   "cell_type": "code",
   "execution_count": null,
   "metadata": {},
   "outputs": [],
   "source": []
  }
 ],
 "metadata": {
  "kernelspec": {
   "display_name": "Python 3",
   "language": "python",
   "name": "python3"
  },
  "language_info": {
   "codemirror_mode": {
    "name": "ipython",
    "version": 3
   },
   "file_extension": ".py",
   "mimetype": "text/x-python",
   "name": "python",
   "nbconvert_exporter": "python",
   "pygments_lexer": "ipython3",
   "version": "3.6.5"
  }
 },
 "nbformat": 4,
 "nbformat_minor": 2
}
