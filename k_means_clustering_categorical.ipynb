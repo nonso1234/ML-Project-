{
 "cells": [
  {
   "cell_type": "code",
   "execution_count": 2,
   "metadata": {},
   "outputs": [],
   "source": [
    "#Import libraries \n",
    "import numpy as np \n",
    "import matplotlib\n",
    "import matplotlib.pyplot as plt \n",
    "from scipy.spatial import distance\n",
    "from sklearn.neighbors import KNeighborsClassifier\n",
    "from sklearn.model_selection import GridSearchCV\n",
    "from sklearn.metrics import classification_report\n",
    "\n",
    "from sklearn.model_selection import train_test_split\n",
    "\n"
   ]
  },
  {
   "cell_type": "code",
   "execution_count": 93,
   "metadata": {},
   "outputs": [],
   "source": [
    "#Import EMG Dataset\n",
    "X = np.genfromtxt('traing_matrix05.csv', delimiter=',', skip_header=2)\n",
    "X1 = np.genfromtxt('test_matrix05.csv', delimiter=',', skip_header=2)\n",
    "\n",
    "m,n = np.shape(X)\n",
    "\n",
    "x_train = []\n",
    "y_train = [] \n",
    "x_test = []\n",
    "y_test = []\n",
    "\n",
    "\n",
    "#Split data x_train, y_train\n",
    "x_train = X[:,0:n-7]\n",
    "#y_train = X[:,65:71]\n",
    "y_train = X[:,64]\n",
    "\n",
    "\n",
    "#Test data \n",
    "x_test = X1[:,0:n-7]\n",
    "#y_test = X1[:,65:71]\n",
    "y_test=X1[:,64]\n",
    "\n",
    "y_class_test=X1[:,64]"
   ]
  },
  {
   "cell_type": "code",
   "execution_count": 94,
   "metadata": {},
   "outputs": [
    {
     "name": "stdout",
     "output_type": "stream",
     "text": [
      "240\n",
      "(624, 64)\n"
     ]
    }
   ],
   "source": [
    "print(len(x_test))\n",
    "print(np.shape(x_train))"
   ]
  },
  {
   "cell_type": "code",
   "execution_count": 95,
   "metadata": {},
   "outputs": [],
   "source": [
    "x_train_cl=[]\n",
    "\n",
    "for i in range(len(x_train)):\n",
    "    x_train_cl.append([])\n",
    "    h=0\n",
    "    for j in range (0, 8):\n",
    "        x_train_cl[i].append([])\n",
    "        x_train_cl[i][h]=x_train[i][0+8*j]\n",
    "        h=h+1\n",
    "        x_train_cl[i].append([])\n",
    "        x_train_cl[i][h]=x_train[i][1+8*j]\n",
    "        h=h+1\n",
    "        x_train_cl[i].append([])\n",
    "        x_train_cl[i][h]=x_train[i][4+8*j]\n",
    "        h=h+1\n",
    "\n",
    "x_test_cl=[]\n",
    "\n",
    "for i in range(len(x_test)):\n",
    "    x_test_cl.append([])\n",
    "    h=0\n",
    "    for j in range (0, 8):\n",
    "        x_test_cl[i].append([])\n",
    "        x_test_cl[i][h]=x_test[i][0+8*j]\n",
    "        h=h+1\n",
    "        x_test_cl[i].append([])\n",
    "        x_test_cl[i][h]=x_test[i][1+8*j]\n",
    "        h=h+1\n",
    "        x_test_cl[i].append([])\n",
    "        x_test_cl[i][h]=x_test[i][4+8*j]\n",
    "        h=h+1\n"
   ]
  },
  {
   "cell_type": "code",
   "execution_count": 96,
   "metadata": {},
   "outputs": [
    {
     "name": "stdout",
     "output_type": "stream",
     "text": [
      "624\n",
      "(624, 24)\n",
      "240\n"
     ]
    }
   ],
   "source": [
    "print(len(x_train_cl))\n",
    "print(np.shape(x_train_cl))\n",
    "print(len(x_test_cl))"
   ]
  },
  {
   "cell_type": "code",
   "execution_count": 97,
   "metadata": {},
   "outputs": [],
   "source": [
    "x_train_cl2=[]\n",
    "h=0\n",
    "for i in range(104):\n",
    "    x_train_cl2.append([])\n",
    "    x_train_cl2[h]=x_train_cl[1+6*i]\n",
    "    h=h+1\n",
    "    x_train_cl2.append([])\n",
    "    x_train_cl2[h]=x_train_cl[3+6*i]\n",
    "    h=h+1\n",
    "\n",
    "x_test_cl2=[]\n",
    "h=0\n",
    "for i in range(40):\n",
    "    x_test_cl2.append([])\n",
    "    x_test_cl2[h]=x_test_cl[1+6*i]\n",
    "    h=h+1\n",
    "    x_test_cl2.append([])\n",
    "    x_test_cl2[h]=x_test_cl[3+6*i]\n",
    "    h=h+1\n"
   ]
  },
  {
   "cell_type": "code",
   "execution_count": 98,
   "metadata": {},
   "outputs": [
    {
     "name": "stdout",
     "output_type": "stream",
     "text": [
      "(208, 24)\n",
      "80\n",
      "208\n",
      "(80, 24)\n"
     ]
    }
   ],
   "source": [
    "print(np.shape(x_train_cl2))\n",
    "print(h)\n",
    "\n",
    "print(len(x_train_cl2))\n",
    "\n",
    "print(np.shape(x_test_cl2))\n"
   ]
  },
  {
   "cell_type": "code",
   "execution_count": 99,
   "metadata": {},
   "outputs": [],
   "source": [
    "x_train_st=[]\n",
    "\n",
    "for i in range (int(len(x_train_cl2)/2)):\n",
    "    x_train_st.append([])\n",
    "    x_train_st[i]=np.hstack((x_train_cl2[i*2],x_train_cl2[i*2+1]))\n",
    "    \n",
    "x_test_st=[]\n",
    "\n",
    "for i in range (int(len(x_test_cl2)/2)):\n",
    "    x_test_st.append([])\n",
    "    x_test_st[i]=np.hstack((x_test_cl2[i*2],x_test_cl2[i*2+1]))"
   ]
  },
  {
   "cell_type": "code",
   "execution_count": 100,
   "metadata": {},
   "outputs": [
    {
     "name": "stdout",
     "output_type": "stream",
     "text": [
      "(104, 48)\n",
      "(40, 48)\n"
     ]
    }
   ],
   "source": [
    "print(np.shape(x_train_st))\n",
    "print(np.shape(x_test_st))\n",
    "x_test_st = np.asarray(x_test_st)\n",
    "x_train_st = np.asarray(x_train_st)"
   ]
  },
  {
   "cell_type": "code",
   "execution_count": 143,
   "metadata": {},
   "outputs": [],
   "source": [
    "from sklearn.cluster import KMeans\n",
    "clus=2\n",
    "#cluster=[]\n",
    "clusters=[]\n",
    "cx1=[]\n",
    "cy1=[]\n",
    "test_clus=[] #contains test set cluster value\n",
    "train_xc=[]\n",
    "train_yc=[]\n",
    "\n",
    "\n",
    "    #cluster.append([])\n",
    "cx1.append([])\n",
    "cy1.append([])\n",
    "clusters.append([])\n",
    "test_clus.append([])\n",
    "train_xc.append([])\n",
    "train_yc.append([])\n",
    "train_xc.append([])\n",
    "train_yc.append([])\n",
    "\n",
    "xx1_train=((x_train_st))\n",
    "kmeans = KMeans(n_clusters=clus, random_state=0).fit(xx1_train)\n",
    "clusters=kmeans.labels_\n",
    "    \n",
    "h=0;\n",
    "i=0;\n",
    "    \n",
    "for g in range (len(clusters-1)):\n",
    "\n",
    "    if clusters[g]==0:\n",
    "        for j in range (0,6):\n",
    "            train_xc[0].append([])\n",
    "            train_yc[0].append([])\n",
    "            train_xc[0][h]=x_train[(g*6)+j]\n",
    "            train_yc[0][h]= y_train[(g*6)+j]\n",
    "            h=h+1\n",
    "\n",
    "    if clusters[g]==1:\n",
    "            for j in range (0,6):\n",
    "                train_xc[1].append([])\n",
    "                train_yc[1].append([]) \n",
    "                train_xc[1][i]=x_train[(g*6)+j]\n",
    "                train_yc[1][i]=y_train[(g*6)+j]\n",
    "                i=i+1\n",
    "                \n"
   ]
  },
  {
   "cell_type": "code",
   "execution_count": 144,
   "metadata": {},
   "outputs": [
    {
     "name": "stdout",
     "output_type": "stream",
     "text": [
      "(2,)\n",
      "384\n",
      "240\n"
     ]
    }
   ],
   "source": [
    "print(np.shape(train_xc))\n",
    "print(len(train_xc[0]))\n",
    "print(len(train_xc[1]))\n",
    "\n"
   ]
  },
  {
   "cell_type": "code",
   "execution_count": 145,
   "metadata": {},
   "outputs": [],
   "source": [
    "from sklearn.cluster import KMeans\n",
    "clus=2\n",
    "\n",
    "xx1_train=((x_train_st))\n",
    "kmeans = KMeans(n_clusters=clus, random_state=0).fit(xx1_train)\n",
    "clusters=kmeans.labels_"
   ]
  },
  {
   "cell_type": "code",
   "execution_count": 146,
   "metadata": {},
   "outputs": [
    {
     "name": "stdout",
     "output_type": "stream",
     "text": [
      "[0 1 0 1 1 1 0 1 0 1 0 0 0 1 0 1 0 1 0 1 0 1 0 1 0 1 0 1 0 1 0 1 0 1 0 1 0\n",
      " 1 0 1 0 1 0 1 0 1 0 1 0 1 0 1 0 1 0 0 0 1 0 1 0 1 0 0 0 1 0 1 0 1 0 1 0 1\n",
      " 0 1 0 1 1 0 0 0 0 0 0 0 0 0 0 0 1 1 0 0 0 0 0 0 0 0 0 0 0 0]\n",
      "104\n"
     ]
    }
   ],
   "source": [
    "print(clusters)\n",
    "print(len(clusters))\n",
    "x_train_st=np.asarray(x_train_st)"
   ]
  },
  {
   "cell_type": "code",
   "execution_count": 147,
   "metadata": {},
   "outputs": [
    {
     "name": "stdout",
     "output_type": "stream",
     "text": [
      "104\n"
     ]
    },
    {
     "data": {
      "text/plain": [
       "<matplotlib.collections.PathCollection at 0xa0f3936a20>"
      ]
     },
     "execution_count": 147,
     "metadata": {},
     "output_type": "execute_result"
    },
    {
     "data": {
      "image/png": "[encoded data removed]",
      "text/plain": [
       "<Figure size 432x288 with 1 Axes>"
      ]
     },
     "metadata": {
      "needs_background": "light"
     },
     "output_type": "display_data"
    }
   ],
   "source": [
    "from mpl_toolkits.mplot3d import Axes3D\n",
    "print(len(clusters))\n",
    "plt.scatter(x_train_st[:,0],x_train_st[:,3], c=kmeans.labels_, cmap='rainbow')"
   ]
  },
  {
   "cell_type": "code",
   "execution_count": 148,
   "metadata": {},
   "outputs": [],
   "source": [
    "# Categorize the subject\n",
    "from sklearn.cluster import KMeans\n",
    "clus=2\n",
    "\n",
    "xx1_train=((x_train_st))\n",
    "kmeans = KMeans(n_clusters=clus, random_state=0).fit(xx1_train)\n",
    "clusters=kmeans.labels_\n",
    "y_pred=kmeans.predict(x_test_st)"
   ]
  },
  {
   "cell_type": "code",
   "execution_count": 149,
   "metadata": {},
   "outputs": [
    {
     "name": "stdout",
     "output_type": "stream",
     "text": [
      "[0 1 0 1 0 0 0 1 0 1 0 1 0 1 0 1 1 1 1 1 1 1 1 1 0 1 1 1 1 1 1 1 1 1 1 1 1\n",
      " 1 1 1]\n",
      "30\n",
      "40\n"
     ]
    }
   ],
   "source": [
    "print(y_pred)\n",
    "print(sum(y_pred))\n",
    "print(len(y_pred))"
   ]
  },
  {
   "cell_type": "code",
   "execution_count": 193,
   "metadata": {},
   "outputs": [],
   "source": [
    "h=0\n",
    "i=0\n",
    "test_xc=[]\n",
    "test_yc=[]\n",
    "test_xc.append([])\n",
    "test_yc.append([])\n",
    "test_xc.append([])\n",
    "test_yc.append([])\n",
    "\n",
    "\n",
    "for g in range (len(y_pred)):\n",
    "    \n",
    "    if y_pred[g]==0:\n",
    "        for j in range(0,6):\n",
    "            test_xc[0].append([])\n",
    "            test_yc[0].append([])\n",
    "            test_xc[0][h]=x_test[(g*6)+j]\n",
    "            test_yc[0][h]= y_test[(g*6)+j]\n",
    "            h=h+1\n",
    "        \n",
    "    if y_pred[g]==1:\n",
    "        for j in range (0,6):\n",
    "            test_xc[1].append([])\n",
    "            test_yc[1].append([])\n",
    "            test_xc[1][i]=x_test[(g*6)+j]\n",
    "            test_yc[1][i]= y_test[(g*6)+j]\n",
    "            i=i+1"
   ]
  },
  {
   "cell_type": "code",
   "execution_count": null,
   "metadata": {},
   "outputs": [],
   "source": [
    "\n",
    "        "
   ]
  },
  {
   "cell_type": "code",
   "execution_count": 194,
   "metadata": {},
   "outputs": [
    {
     "name": "stdout",
     "output_type": "stream",
     "text": [
      "60\n",
      "180\n",
      "2\n",
      "60\n",
      "1.0\n",
      "2.0\n",
      "3.0\n",
      "4.0\n",
      "5.0\n",
      "6.0\n"
     ]
    }
   ],
   "source": [
    "print(len(test_xc[0]))\n",
    "print(len(test_xc[1]))\n",
    "print(len(test_xc))\n",
    "print(len(test_xc[0]))\n",
    "print(test_yc[1][0])\n",
    "print(test_yc[1][1])\n",
    "print(test_yc[1][2])\n",
    "print(test_yc[1][3])\n",
    "print(test_yc[1][4])\n",
    "print(test_yc[1][5])"
   ]
  },
  {
   "cell_type": "code",
   "execution_count": 195,
   "metadata": {},
   "outputs": [
    {
     "name": "stdout",
     "output_type": "stream",
     "text": [
      "[1.0, 2.0, 3.0, 4.0, 5.0, 6.0, 1.0, 2.0, 3.0, 4.0, 5.0, 6.0, 1.0, 2.0, 3.0, 4.0, 5.0, 6.0, 1.0, 2.0, 3.0, 4.0, 5.0, 6.0, 1.0, 2.0, 3.0, 4.0, 5.0, 6.0, 1.0, 2.0, 3.0, 4.0, 5.0, 6.0, 1.0, 2.0, 3.0, 4.0, 5.0, 6.0, 1.0, 2.0, 3.0, 4.0, 5.0, 6.0, 1.0, 2.0, 3.0, 4.0, 5.0, 6.0, 1.0, 2.0, 3.0, 4.0, 5.0, 6.0]\n",
      "60\n"
     ]
    }
   ],
   "source": [
    "print(test_yc[0])\n",
    "print(len(test_yc[0]))"
   ]
  },
  {
   "cell_type": "code",
   "execution_count": 196,
   "metadata": {},
   "outputs": [],
   "source": [
    "from sklearn.neighbors import KNeighborsClassifier\n",
    "pred=[]\n",
    "prob=[]\n",
    "for f in range(len(test_xc)):\n",
    "    pred.append([])\n",
    "    prob.append([])\n",
    "    neigh=KNeighborsClassifier(n_neighbors=10)\n",
    "    neigh.fit(train_xc[f],train_yc[f])\n",
    "    pred[f]=neigh.predict(test_xc[f])\n",
    "    prob[f]=neigh.predict_proba(test_xc[f])\n",
    "        \n",
    "        \n",
    "    "
   ]
  },
  {
   "cell_type": "code",
   "execution_count": 197,
   "metadata": {},
   "outputs": [
    {
     "name": "stdout",
     "output_type": "stream",
     "text": [
      "60\n",
      "180\n"
     ]
    }
   ],
   "source": [
    "print(len(pred[0]))\n",
    "print(len(pred[1]))"
   ]
  },
  {
   "cell_type": "code",
   "execution_count": 198,
   "metadata": {},
   "outputs": [
    {
     "name": "stdout",
     "output_type": "stream",
     "text": [
      "[1. 2. 3. 4. 5. 6. 1. 2. 3. 4. 4. 6. 5. 2. 3. 4. 5. 4. 6. 2. 3. 4. 5. 6.\n",
      " 1. 2. 3. 4. 5. 6. 1. 2. 3. 4. 5. 6. 1. 2. 3. 4. 3. 6. 1. 2. 1. 4. 5. 6.\n",
      " 1. 2. 3. 4. 4. 3. 1. 1. 4. 4. 6. 6.]\n",
      "[1. 2. 3. 3. 5. 5. 1. 2. 3. 3. 5. 5. 1. 2. 3. 4. 5. 5. 1. 2. 3. 4. 5. 5.\n",
      " 3. 2. 3. 2. 5. 5. 1. 6. 3. 4. 5. 5. 1. 2. 3. 4. 5. 5. 1. 1. 3. 4. 5. 5.\n",
      " 2. 3. 4. 4. 4. 5. 1. 2. 3. 4. 2. 2. 3. 2. 3. 4. 6. 6. 1. 1. 3. 3. 5. 5.\n",
      " 1. 2. 3. 4. 5. 5. 1. 2. 3. 4. 5. 5. 1. 2. 3. 4. 5. 5. 3. 2. 3. 3. 6. 6.\n",
      " 4. 2. 4. 2. 3. 3. 4. 2. 4. 4. 3. 3. 1. 2. 3. 4. 5. 5. 1. 2. 3. 4. 2. 2.\n",
      " 1. 2. 3. 4. 5. 5. 1. 2. 3. 4. 5. 5. 1. 2. 3. 3. 2. 2. 1. 2. 3. 3. 5. 5.\n",
      " 1. 5. 4. 4. 5. 5. 1. 2. 3. 4. 2. 2. 1. 2. 3. 4. 5. 5. 1. 2. 3. 4. 5. 5.\n",
      " 1. 2. 3. 4. 6. 6. 1. 2. 3. 4. 5. 5.]\n"
     ]
    }
   ],
   "source": [
    "print(pred[0])\n",
    "print(pred[1])"
   ]
  },
  {
   "cell_type": "code",
   "execution_count": 199,
   "metadata": {},
   "outputs": [
    {
     "name": "stdout",
     "output_type": "stream",
     "text": [
      "0.7041666666666667\n"
     ]
    }
   ],
   "source": [
    "match1=0;\n",
    "match2=0;\n",
    "for f in range(len(pred)):\n",
    "    \n",
    "    for g in range (len(pred[f])):\n",
    "        if pred[f][g]==test_yc[f][g]:\n",
    "            match1=match1+1\n",
    "            \n",
    "print(match1/240)       "
   ]
  },
  {
   "cell_type": "code",
   "execution_count": null,
   "metadata": {},
   "outputs": [],
   "source": []
  }
 ],
 "metadata": {
  "kernelspec": {
   "display_name": "Python 3",
   "language": "python",
   "name": "python3"
  },
  "language_info": {
   "codemirror_mode": {
    "name": "ipython",
    "version": 3
   },
   "file_extension": ".py",
   "mimetype": "text/x-python",
   "name": "python",
   "nbconvert_exporter": "python",
   "pygments_lexer": "ipython3",
   "version": "3.7.3"
  }
 },
 "nbformat": 4,
 "nbformat_minor": 2
}
